{
 "cells": [
  {
   "cell_type": "code",
   "execution_count": 72,
   "metadata": {},
   "outputs": [],
   "source": [
    "# import the necessary packages\n",
    "import pandas as pd\n",
    "import seaborn as sns\n",
    "import numpy as np\n",
    "import matplotlib.pyplot as plt\n",
    "import shap\n",
    "from sklearn.preprocessing import LabelEncoder\n",
    "from sklearn.model_selection import train_test_split\n",
    "from sklearn.preprocessing import MinMaxScaler\n",
    "from sklearn import model_selection\n",
    "from sklearn.linear_model import LogisticRegression\n",
    "from sklearn.neighbors import KNeighborsClassifier\n",
    "from sklearn.svm import SVC\n",
    "from sklearn.ensemble import RandomForestClassifier\n",
    "from sklearn.ensemble import GradientBoostingClassifier\n",
    "from sklearn.metrics import recall_score, accuracy_score, classification_report, confusion_matrix, precision_score, ConfusionMatrixDisplay\n",
    "from sklearn.model_selection import GridSearchCV\n",
    "import warnings\n",
    "from time import time\n",
    "warnings.filterwarnings(\"ignore\", category=FutureWarning)\n",
    "warnings.filterwarnings(\"ignore\", category=DeprecationWarning)"
   ]
  },
  {
   "cell_type": "code",
   "execution_count": 73,
   "metadata": {},
   "outputs": [],
   "source": [
    "# load in the cleaned data for ML models\n",
    "df2 = pd.read_csv(\"ML_diabetes_data.csv\", index_col=[0])"
   ]
  },
  {
   "cell_type": "code",
   "execution_count": 74,
   "metadata": {},
   "outputs": [
    {
     "data": {
      "text/html": [
       "<div>\n",
       "<style scoped>\n",
       "    .dataframe tbody tr th:only-of-type {\n",
       "        vertical-align: middle;\n",
       "    }\n",
       "\n",
       "    .dataframe tbody tr th {\n",
       "        vertical-align: top;\n",
       "    }\n",
       "\n",
       "    .dataframe thead th {\n",
       "        text-align: right;\n",
       "    }\n",
       "</style>\n",
       "<table border=\"1\" class=\"dataframe\">\n",
       "  <thead>\n",
       "    <tr style=\"text-align: right;\">\n",
       "      <th></th>\n",
       "      <th>Gender</th>\n",
       "      <th>Urea</th>\n",
       "      <th>Cr</th>\n",
       "      <th>HbA1c</th>\n",
       "      <th>Chol</th>\n",
       "      <th>TG</th>\n",
       "      <th>HDL</th>\n",
       "      <th>LDL</th>\n",
       "      <th>VLDL</th>\n",
       "      <th>BMI</th>\n",
       "      <th>CLASS</th>\n",
       "      <th>age_range</th>\n",
       "    </tr>\n",
       "  </thead>\n",
       "  <tbody>\n",
       "    <tr>\n",
       "      <th>0</th>\n",
       "      <td>F</td>\n",
       "      <td>4.7</td>\n",
       "      <td>46</td>\n",
       "      <td>4.9</td>\n",
       "      <td>4.2</td>\n",
       "      <td>0.9</td>\n",
       "      <td>2.4</td>\n",
       "      <td>1.4</td>\n",
       "      <td>0.5</td>\n",
       "      <td>24.0</td>\n",
       "      <td>N</td>\n",
       "      <td>[60 - 70)</td>\n",
       "    </tr>\n",
       "    <tr>\n",
       "      <th>1</th>\n",
       "      <td>M</td>\n",
       "      <td>4.5</td>\n",
       "      <td>62</td>\n",
       "      <td>4.9</td>\n",
       "      <td>3.7</td>\n",
       "      <td>1.4</td>\n",
       "      <td>1.1</td>\n",
       "      <td>2.1</td>\n",
       "      <td>0.6</td>\n",
       "      <td>23.0</td>\n",
       "      <td>N</td>\n",
       "      <td>[20 - 30)</td>\n",
       "    </tr>\n",
       "    <tr>\n",
       "      <th>2</th>\n",
       "      <td>F</td>\n",
       "      <td>4.7</td>\n",
       "      <td>46</td>\n",
       "      <td>4.9</td>\n",
       "      <td>4.2</td>\n",
       "      <td>0.9</td>\n",
       "      <td>2.4</td>\n",
       "      <td>1.4</td>\n",
       "      <td>0.5</td>\n",
       "      <td>24.0</td>\n",
       "      <td>N</td>\n",
       "      <td>[60 - 70)</td>\n",
       "    </tr>\n",
       "    <tr>\n",
       "      <th>3</th>\n",
       "      <td>F</td>\n",
       "      <td>4.7</td>\n",
       "      <td>46</td>\n",
       "      <td>4.9</td>\n",
       "      <td>4.2</td>\n",
       "      <td>0.9</td>\n",
       "      <td>2.4</td>\n",
       "      <td>1.4</td>\n",
       "      <td>0.5</td>\n",
       "      <td>24.0</td>\n",
       "      <td>N</td>\n",
       "      <td>[60 - 70)</td>\n",
       "    </tr>\n",
       "    <tr>\n",
       "      <th>4</th>\n",
       "      <td>M</td>\n",
       "      <td>7.1</td>\n",
       "      <td>46</td>\n",
       "      <td>4.9</td>\n",
       "      <td>4.9</td>\n",
       "      <td>1.0</td>\n",
       "      <td>0.8</td>\n",
       "      <td>2.0</td>\n",
       "      <td>0.4</td>\n",
       "      <td>21.0</td>\n",
       "      <td>N</td>\n",
       "      <td>[30 - 40)</td>\n",
       "    </tr>\n",
       "  </tbody>\n",
       "</table>\n",
       "</div>"
      ],
      "text/plain": [
       "  Gender  Urea  Cr  HbA1c  Chol   TG  HDL  LDL  VLDL   BMI CLASS  age_range\n",
       "0      F   4.7  46    4.9   4.2  0.9  2.4  1.4   0.5  24.0     N  [60 - 70)\n",
       "1      M   4.5  62    4.9   3.7  1.4  1.1  2.1   0.6  23.0     N  [20 - 30)\n",
       "2      F   4.7  46    4.9   4.2  0.9  2.4  1.4   0.5  24.0     N  [60 - 70)\n",
       "3      F   4.7  46    4.9   4.2  0.9  2.4  1.4   0.5  24.0     N  [60 - 70)\n",
       "4      M   7.1  46    4.9   4.9  1.0  0.8  2.0   0.4  21.0     N  [30 - 40)"
      ]
     },
     "execution_count": 74,
     "metadata": {},
     "output_type": "execute_result"
    }
   ],
   "source": [
    "df2.head()"
   ]
  },
  {
   "cell_type": "code",
   "execution_count": 75,
   "metadata": {},
   "outputs": [],
   "source": [
    "# encode labels as numeric categories\n",
    "le1 = LabelEncoder()\n",
    "df2['Gender'] =le1.fit_transform(df2['Gender'])\n",
    "le2 = LabelEncoder()\n",
    "df2['CLASS'] =le2.fit_transform(df2['CLASS'])\n",
    "le3 = LabelEncoder()\n",
    "df2['age_range'] =le3.fit_transform(df2['age_range'])\n"
   ]
  },
  {
   "cell_type": "code",
   "execution_count": 76,
   "metadata": {},
   "outputs": [
    {
     "data": {
      "text/plain": [
       "array(['F', 'M'], dtype=object)"
      ]
     },
     "execution_count": 76,
     "metadata": {},
     "output_type": "execute_result"
    }
   ],
   "source": [
    "le1.classes_"
   ]
  },
  {
   "cell_type": "code",
   "execution_count": 77,
   "metadata": {},
   "outputs": [
    {
     "data": {
      "text/plain": [
       "array(['N', 'P', 'Y'], dtype=object)"
      ]
     },
     "execution_count": 77,
     "metadata": {},
     "output_type": "execute_result"
    }
   ],
   "source": [
    "le2.classes_\n"
   ]
  },
  {
   "cell_type": "code",
   "execution_count": 78,
   "metadata": {},
   "outputs": [
    {
     "data": {
      "text/plain": [
       "array(['[20 - 30)', '[30 - 40)', '[40 - 50)', '[50 - 60)', '[60 - 70)',\n",
       "       '[70 - 80)', '[80 - 90)', '[90 - 100)'], dtype=object)"
      ]
     },
     "execution_count": 78,
     "metadata": {},
     "output_type": "execute_result"
    }
   ],
   "source": [
    "le3.classes_"
   ]
  },
  {
   "cell_type": "code",
   "execution_count": 79,
   "metadata": {
    "scrolled": true
   },
   "outputs": [
    {
     "data": {
      "text/html": [
       "<div>\n",
       "<style scoped>\n",
       "    .dataframe tbody tr th:only-of-type {\n",
       "        vertical-align: middle;\n",
       "    }\n",
       "\n",
       "    .dataframe tbody tr th {\n",
       "        vertical-align: top;\n",
       "    }\n",
       "\n",
       "    .dataframe thead th {\n",
       "        text-align: right;\n",
       "    }\n",
       "</style>\n",
       "<table border=\"1\" class=\"dataframe\">\n",
       "  <thead>\n",
       "    <tr style=\"text-align: right;\">\n",
       "      <th></th>\n",
       "      <th>Gender</th>\n",
       "      <th>Urea</th>\n",
       "      <th>Cr</th>\n",
       "      <th>HbA1c</th>\n",
       "      <th>Chol</th>\n",
       "      <th>TG</th>\n",
       "      <th>HDL</th>\n",
       "      <th>LDL</th>\n",
       "      <th>VLDL</th>\n",
       "      <th>BMI</th>\n",
       "      <th>CLASS</th>\n",
       "      <th>age_range</th>\n",
       "    </tr>\n",
       "  </thead>\n",
       "  <tbody>\n",
       "    <tr>\n",
       "      <th>0</th>\n",
       "      <td>0</td>\n",
       "      <td>4.7</td>\n",
       "      <td>46</td>\n",
       "      <td>4.9</td>\n",
       "      <td>4.2</td>\n",
       "      <td>0.9</td>\n",
       "      <td>2.4</td>\n",
       "      <td>1.4</td>\n",
       "      <td>0.5</td>\n",
       "      <td>24.0</td>\n",
       "      <td>0</td>\n",
       "      <td>4</td>\n",
       "    </tr>\n",
       "    <tr>\n",
       "      <th>1</th>\n",
       "      <td>1</td>\n",
       "      <td>4.5</td>\n",
       "      <td>62</td>\n",
       "      <td>4.9</td>\n",
       "      <td>3.7</td>\n",
       "      <td>1.4</td>\n",
       "      <td>1.1</td>\n",
       "      <td>2.1</td>\n",
       "      <td>0.6</td>\n",
       "      <td>23.0</td>\n",
       "      <td>0</td>\n",
       "      <td>0</td>\n",
       "    </tr>\n",
       "    <tr>\n",
       "      <th>2</th>\n",
       "      <td>0</td>\n",
       "      <td>4.7</td>\n",
       "      <td>46</td>\n",
       "      <td>4.9</td>\n",
       "      <td>4.2</td>\n",
       "      <td>0.9</td>\n",
       "      <td>2.4</td>\n",
       "      <td>1.4</td>\n",
       "      <td>0.5</td>\n",
       "      <td>24.0</td>\n",
       "      <td>0</td>\n",
       "      <td>4</td>\n",
       "    </tr>\n",
       "    <tr>\n",
       "      <th>3</th>\n",
       "      <td>0</td>\n",
       "      <td>4.7</td>\n",
       "      <td>46</td>\n",
       "      <td>4.9</td>\n",
       "      <td>4.2</td>\n",
       "      <td>0.9</td>\n",
       "      <td>2.4</td>\n",
       "      <td>1.4</td>\n",
       "      <td>0.5</td>\n",
       "      <td>24.0</td>\n",
       "      <td>0</td>\n",
       "      <td>4</td>\n",
       "    </tr>\n",
       "    <tr>\n",
       "      <th>4</th>\n",
       "      <td>1</td>\n",
       "      <td>7.1</td>\n",
       "      <td>46</td>\n",
       "      <td>4.9</td>\n",
       "      <td>4.9</td>\n",
       "      <td>1.0</td>\n",
       "      <td>0.8</td>\n",
       "      <td>2.0</td>\n",
       "      <td>0.4</td>\n",
       "      <td>21.0</td>\n",
       "      <td>0</td>\n",
       "      <td>1</td>\n",
       "    </tr>\n",
       "    <tr>\n",
       "      <th>...</th>\n",
       "      <td>...</td>\n",
       "      <td>...</td>\n",
       "      <td>...</td>\n",
       "      <td>...</td>\n",
       "      <td>...</td>\n",
       "      <td>...</td>\n",
       "      <td>...</td>\n",
       "      <td>...</td>\n",
       "      <td>...</td>\n",
       "      <td>...</td>\n",
       "      <td>...</td>\n",
       "      <td>...</td>\n",
       "    </tr>\n",
       "    <tr>\n",
       "      <th>995</th>\n",
       "      <td>1</td>\n",
       "      <td>11.0</td>\n",
       "      <td>97</td>\n",
       "      <td>7.0</td>\n",
       "      <td>7.5</td>\n",
       "      <td>1.7</td>\n",
       "      <td>1.2</td>\n",
       "      <td>1.8</td>\n",
       "      <td>0.6</td>\n",
       "      <td>30.0</td>\n",
       "      <td>2</td>\n",
       "      <td>6</td>\n",
       "    </tr>\n",
       "    <tr>\n",
       "      <th>996</th>\n",
       "      <td>1</td>\n",
       "      <td>3.0</td>\n",
       "      <td>60</td>\n",
       "      <td>12.3</td>\n",
       "      <td>4.1</td>\n",
       "      <td>2.2</td>\n",
       "      <td>0.7</td>\n",
       "      <td>2.4</td>\n",
       "      <td>15.4</td>\n",
       "      <td>37.2</td>\n",
       "      <td>2</td>\n",
       "      <td>1</td>\n",
       "    </tr>\n",
       "    <tr>\n",
       "      <th>997</th>\n",
       "      <td>1</td>\n",
       "      <td>7.1</td>\n",
       "      <td>81</td>\n",
       "      <td>6.7</td>\n",
       "      <td>4.1</td>\n",
       "      <td>1.1</td>\n",
       "      <td>1.2</td>\n",
       "      <td>2.4</td>\n",
       "      <td>8.1</td>\n",
       "      <td>27.4</td>\n",
       "      <td>2</td>\n",
       "      <td>1</td>\n",
       "    </tr>\n",
       "    <tr>\n",
       "      <th>998</th>\n",
       "      <td>1</td>\n",
       "      <td>5.8</td>\n",
       "      <td>59</td>\n",
       "      <td>6.7</td>\n",
       "      <td>5.3</td>\n",
       "      <td>2.0</td>\n",
       "      <td>1.6</td>\n",
       "      <td>2.9</td>\n",
       "      <td>14.0</td>\n",
       "      <td>40.5</td>\n",
       "      <td>2</td>\n",
       "      <td>2</td>\n",
       "    </tr>\n",
       "    <tr>\n",
       "      <th>999</th>\n",
       "      <td>1</td>\n",
       "      <td>5.0</td>\n",
       "      <td>67</td>\n",
       "      <td>6.9</td>\n",
       "      <td>3.8</td>\n",
       "      <td>1.7</td>\n",
       "      <td>1.1</td>\n",
       "      <td>3.0</td>\n",
       "      <td>0.7</td>\n",
       "      <td>33.0</td>\n",
       "      <td>2</td>\n",
       "      <td>4</td>\n",
       "    </tr>\n",
       "  </tbody>\n",
       "</table>\n",
       "<p>1000 rows × 12 columns</p>\n",
       "</div>"
      ],
      "text/plain": [
       "     Gender  Urea  Cr  HbA1c  Chol   TG  HDL  LDL  VLDL   BMI  CLASS  \\\n",
       "0         0   4.7  46    4.9   4.2  0.9  2.4  1.4   0.5  24.0      0   \n",
       "1         1   4.5  62    4.9   3.7  1.4  1.1  2.1   0.6  23.0      0   \n",
       "2         0   4.7  46    4.9   4.2  0.9  2.4  1.4   0.5  24.0      0   \n",
       "3         0   4.7  46    4.9   4.2  0.9  2.4  1.4   0.5  24.0      0   \n",
       "4         1   7.1  46    4.9   4.9  1.0  0.8  2.0   0.4  21.0      0   \n",
       "..      ...   ...  ..    ...   ...  ...  ...  ...   ...   ...    ...   \n",
       "995       1  11.0  97    7.0   7.5  1.7  1.2  1.8   0.6  30.0      2   \n",
       "996       1   3.0  60   12.3   4.1  2.2  0.7  2.4  15.4  37.2      2   \n",
       "997       1   7.1  81    6.7   4.1  1.1  1.2  2.4   8.1  27.4      2   \n",
       "998       1   5.8  59    6.7   5.3  2.0  1.6  2.9  14.0  40.5      2   \n",
       "999       1   5.0  67    6.9   3.8  1.7  1.1  3.0   0.7  33.0      2   \n",
       "\n",
       "     age_range  \n",
       "0            4  \n",
       "1            0  \n",
       "2            4  \n",
       "3            4  \n",
       "4            1  \n",
       "..         ...  \n",
       "995          6  \n",
       "996          1  \n",
       "997          1  \n",
       "998          2  \n",
       "999          4  \n",
       "\n",
       "[1000 rows x 12 columns]"
      ]
     },
     "execution_count": 79,
     "metadata": {},
     "output_type": "execute_result"
    }
   ],
   "source": [
    "df2"
   ]
  },
  {
   "cell_type": "markdown",
   "metadata": {},
   "source": [
    "The results are on different scales, as observed above. HbA1c is reported as a percentage in the lab, the reference range for creatinine is markedly larger than the rest of the analytes. \n",
    "\n",
    "This is where scaling comes in. We will use the MinMaxScaler() which will transform the features between 0 and 1."
   ]
  },
  {
   "cell_type": "code",
   "execution_count": 80,
   "metadata": {},
   "outputs": [],
   "source": [
    "#define scaler\n",
    "scaler = MinMaxScaler()"
   ]
  },
  {
   "cell_type": "code",
   "execution_count": 81,
   "metadata": {},
   "outputs": [
    {
     "data": {
      "text/html": [
       "<div>\n",
       "<style scoped>\n",
       "    .dataframe tbody tr th:only-of-type {\n",
       "        vertical-align: middle;\n",
       "    }\n",
       "\n",
       "    .dataframe tbody tr th {\n",
       "        vertical-align: top;\n",
       "    }\n",
       "\n",
       "    .dataframe thead th {\n",
       "        text-align: right;\n",
       "    }\n",
       "</style>\n",
       "<table border=\"1\" class=\"dataframe\">\n",
       "  <thead>\n",
       "    <tr style=\"text-align: right;\">\n",
       "      <th></th>\n",
       "      <th>Urea_scaled</th>\n",
       "      <th>Cr_scaled</th>\n",
       "      <th>HbA1c_scaled</th>\n",
       "      <th>Chol_scaled</th>\n",
       "      <th>TG_scaled</th>\n",
       "      <th>HDL_scaled</th>\n",
       "      <th>LDL_scaled</th>\n",
       "      <th>VLDL_scaled</th>\n",
       "      <th>BMI_scaled</th>\n",
       "    </tr>\n",
       "  </thead>\n",
       "  <tbody>\n",
       "    <tr>\n",
       "      <th>0</th>\n",
       "      <td>0.109375</td>\n",
       "      <td>0.050378</td>\n",
       "      <td>0.264901</td>\n",
       "      <td>0.407767</td>\n",
       "      <td>0.044444</td>\n",
       "      <td>0.226804</td>\n",
       "      <td>0.114583</td>\n",
       "      <td>0.011461</td>\n",
       "      <td>0.173913</td>\n",
       "    </tr>\n",
       "    <tr>\n",
       "      <th>1</th>\n",
       "      <td>0.104167</td>\n",
       "      <td>0.070529</td>\n",
       "      <td>0.264901</td>\n",
       "      <td>0.359223</td>\n",
       "      <td>0.081481</td>\n",
       "      <td>0.092784</td>\n",
       "      <td>0.187500</td>\n",
       "      <td>0.014327</td>\n",
       "      <td>0.139130</td>\n",
       "    </tr>\n",
       "    <tr>\n",
       "      <th>2</th>\n",
       "      <td>0.109375</td>\n",
       "      <td>0.050378</td>\n",
       "      <td>0.264901</td>\n",
       "      <td>0.407767</td>\n",
       "      <td>0.044444</td>\n",
       "      <td>0.226804</td>\n",
       "      <td>0.114583</td>\n",
       "      <td>0.011461</td>\n",
       "      <td>0.173913</td>\n",
       "    </tr>\n",
       "    <tr>\n",
       "      <th>3</th>\n",
       "      <td>0.109375</td>\n",
       "      <td>0.050378</td>\n",
       "      <td>0.264901</td>\n",
       "      <td>0.407767</td>\n",
       "      <td>0.044444</td>\n",
       "      <td>0.226804</td>\n",
       "      <td>0.114583</td>\n",
       "      <td>0.011461</td>\n",
       "      <td>0.173913</td>\n",
       "    </tr>\n",
       "    <tr>\n",
       "      <th>4</th>\n",
       "      <td>0.171875</td>\n",
       "      <td>0.050378</td>\n",
       "      <td>0.264901</td>\n",
       "      <td>0.475728</td>\n",
       "      <td>0.051852</td>\n",
       "      <td>0.061856</td>\n",
       "      <td>0.177083</td>\n",
       "      <td>0.008596</td>\n",
       "      <td>0.069565</td>\n",
       "    </tr>\n",
       "    <tr>\n",
       "      <th>...</th>\n",
       "      <td>...</td>\n",
       "      <td>...</td>\n",
       "      <td>...</td>\n",
       "      <td>...</td>\n",
       "      <td>...</td>\n",
       "      <td>...</td>\n",
       "      <td>...</td>\n",
       "      <td>...</td>\n",
       "      <td>...</td>\n",
       "    </tr>\n",
       "    <tr>\n",
       "      <th>995</th>\n",
       "      <td>0.273438</td>\n",
       "      <td>0.114610</td>\n",
       "      <td>0.403974</td>\n",
       "      <td>0.728155</td>\n",
       "      <td>0.103704</td>\n",
       "      <td>0.103093</td>\n",
       "      <td>0.156250</td>\n",
       "      <td>0.014327</td>\n",
       "      <td>0.382609</td>\n",
       "    </tr>\n",
       "    <tr>\n",
       "      <th>996</th>\n",
       "      <td>0.065104</td>\n",
       "      <td>0.068010</td>\n",
       "      <td>0.754967</td>\n",
       "      <td>0.398058</td>\n",
       "      <td>0.140741</td>\n",
       "      <td>0.051546</td>\n",
       "      <td>0.218750</td>\n",
       "      <td>0.438395</td>\n",
       "      <td>0.633043</td>\n",
       "    </tr>\n",
       "    <tr>\n",
       "      <th>997</th>\n",
       "      <td>0.171875</td>\n",
       "      <td>0.094458</td>\n",
       "      <td>0.384106</td>\n",
       "      <td>0.398058</td>\n",
       "      <td>0.059259</td>\n",
       "      <td>0.103093</td>\n",
       "      <td>0.218750</td>\n",
       "      <td>0.229226</td>\n",
       "      <td>0.292174</td>\n",
       "    </tr>\n",
       "    <tr>\n",
       "      <th>998</th>\n",
       "      <td>0.138021</td>\n",
       "      <td>0.066751</td>\n",
       "      <td>0.384106</td>\n",
       "      <td>0.514563</td>\n",
       "      <td>0.125926</td>\n",
       "      <td>0.144330</td>\n",
       "      <td>0.270833</td>\n",
       "      <td>0.398281</td>\n",
       "      <td>0.747826</td>\n",
       "    </tr>\n",
       "    <tr>\n",
       "      <th>999</th>\n",
       "      <td>0.117188</td>\n",
       "      <td>0.076826</td>\n",
       "      <td>0.397351</td>\n",
       "      <td>0.368932</td>\n",
       "      <td>0.103704</td>\n",
       "      <td>0.092784</td>\n",
       "      <td>0.281250</td>\n",
       "      <td>0.017192</td>\n",
       "      <td>0.486957</td>\n",
       "    </tr>\n",
       "  </tbody>\n",
       "</table>\n",
       "<p>1000 rows × 9 columns</p>\n",
       "</div>"
      ],
      "text/plain": [
       "     Urea_scaled  Cr_scaled  HbA1c_scaled  Chol_scaled  TG_scaled  HDL_scaled  \\\n",
       "0       0.109375   0.050378      0.264901     0.407767   0.044444    0.226804   \n",
       "1       0.104167   0.070529      0.264901     0.359223   0.081481    0.092784   \n",
       "2       0.109375   0.050378      0.264901     0.407767   0.044444    0.226804   \n",
       "3       0.109375   0.050378      0.264901     0.407767   0.044444    0.226804   \n",
       "4       0.171875   0.050378      0.264901     0.475728   0.051852    0.061856   \n",
       "..           ...        ...           ...          ...        ...         ...   \n",
       "995     0.273438   0.114610      0.403974     0.728155   0.103704    0.103093   \n",
       "996     0.065104   0.068010      0.754967     0.398058   0.140741    0.051546   \n",
       "997     0.171875   0.094458      0.384106     0.398058   0.059259    0.103093   \n",
       "998     0.138021   0.066751      0.384106     0.514563   0.125926    0.144330   \n",
       "999     0.117188   0.076826      0.397351     0.368932   0.103704    0.092784   \n",
       "\n",
       "     LDL_scaled  VLDL_scaled  BMI_scaled  \n",
       "0      0.114583     0.011461    0.173913  \n",
       "1      0.187500     0.014327    0.139130  \n",
       "2      0.114583     0.011461    0.173913  \n",
       "3      0.114583     0.011461    0.173913  \n",
       "4      0.177083     0.008596    0.069565  \n",
       "..          ...          ...         ...  \n",
       "995    0.156250     0.014327    0.382609  \n",
       "996    0.218750     0.438395    0.633043  \n",
       "997    0.218750     0.229226    0.292174  \n",
       "998    0.270833     0.398281    0.747826  \n",
       "999    0.281250     0.017192    0.486957  \n",
       "\n",
       "[1000 rows x 9 columns]"
      ]
     },
     "execution_count": 81,
     "metadata": {},
     "output_type": "execute_result"
    }
   ],
   "source": [
    "# define columns to scale \n",
    "columns_to_scale = ['Urea','Cr','HbA1c','Chol','TG','HDL','LDL','VLDL','BMI']\n",
    "columns_scaled = ['Urea_scaled','Cr_scaled','HbA1c_scaled','Chol_scaled','TG_scaled','HDL_scaled','LDL_scaled','VLDL_scaled','BMI_scaled']\n",
    "\n",
    "scale_values = df2[columns_to_scale].values\n",
    "scaled_array = scaler.fit_transform(scale_values)\n",
    "\n",
    "#create df_2 with scaled features\n",
    "df2_scaled = pd.DataFrame(scaled_array, columns=columns_scaled)\n",
    "df2_scaled"
   ]
  },
  {
   "cell_type": "code",
   "execution_count": 82,
   "metadata": {},
   "outputs": [
    {
     "data": {
      "text/html": [
       "<div>\n",
       "<style scoped>\n",
       "    .dataframe tbody tr th:only-of-type {\n",
       "        vertical-align: middle;\n",
       "    }\n",
       "\n",
       "    .dataframe tbody tr th {\n",
       "        vertical-align: top;\n",
       "    }\n",
       "\n",
       "    .dataframe thead th {\n",
       "        text-align: right;\n",
       "    }\n",
       "</style>\n",
       "<table border=\"1\" class=\"dataframe\">\n",
       "  <thead>\n",
       "    <tr style=\"text-align: right;\">\n",
       "      <th></th>\n",
       "      <th>Gender</th>\n",
       "      <th>Urea</th>\n",
       "      <th>Cr</th>\n",
       "      <th>HbA1c</th>\n",
       "      <th>Chol</th>\n",
       "      <th>TG</th>\n",
       "      <th>HDL</th>\n",
       "      <th>LDL</th>\n",
       "      <th>VLDL</th>\n",
       "      <th>BMI</th>\n",
       "      <th>...</th>\n",
       "      <th>age_range</th>\n",
       "      <th>Urea_scaled</th>\n",
       "      <th>Cr_scaled</th>\n",
       "      <th>HbA1c_scaled</th>\n",
       "      <th>Chol_scaled</th>\n",
       "      <th>TG_scaled</th>\n",
       "      <th>HDL_scaled</th>\n",
       "      <th>LDL_scaled</th>\n",
       "      <th>VLDL_scaled</th>\n",
       "      <th>BMI_scaled</th>\n",
       "    </tr>\n",
       "  </thead>\n",
       "  <tbody>\n",
       "    <tr>\n",
       "      <th>0</th>\n",
       "      <td>0</td>\n",
       "      <td>4.7</td>\n",
       "      <td>46</td>\n",
       "      <td>4.9</td>\n",
       "      <td>4.2</td>\n",
       "      <td>0.9</td>\n",
       "      <td>2.4</td>\n",
       "      <td>1.4</td>\n",
       "      <td>0.5</td>\n",
       "      <td>24.0</td>\n",
       "      <td>...</td>\n",
       "      <td>4</td>\n",
       "      <td>0.109375</td>\n",
       "      <td>0.050378</td>\n",
       "      <td>0.264901</td>\n",
       "      <td>0.407767</td>\n",
       "      <td>0.044444</td>\n",
       "      <td>0.226804</td>\n",
       "      <td>0.114583</td>\n",
       "      <td>0.011461</td>\n",
       "      <td>0.173913</td>\n",
       "    </tr>\n",
       "    <tr>\n",
       "      <th>1</th>\n",
       "      <td>1</td>\n",
       "      <td>4.5</td>\n",
       "      <td>62</td>\n",
       "      <td>4.9</td>\n",
       "      <td>3.7</td>\n",
       "      <td>1.4</td>\n",
       "      <td>1.1</td>\n",
       "      <td>2.1</td>\n",
       "      <td>0.6</td>\n",
       "      <td>23.0</td>\n",
       "      <td>...</td>\n",
       "      <td>0</td>\n",
       "      <td>0.104167</td>\n",
       "      <td>0.070529</td>\n",
       "      <td>0.264901</td>\n",
       "      <td>0.359223</td>\n",
       "      <td>0.081481</td>\n",
       "      <td>0.092784</td>\n",
       "      <td>0.187500</td>\n",
       "      <td>0.014327</td>\n",
       "      <td>0.139130</td>\n",
       "    </tr>\n",
       "    <tr>\n",
       "      <th>2</th>\n",
       "      <td>0</td>\n",
       "      <td>4.7</td>\n",
       "      <td>46</td>\n",
       "      <td>4.9</td>\n",
       "      <td>4.2</td>\n",
       "      <td>0.9</td>\n",
       "      <td>2.4</td>\n",
       "      <td>1.4</td>\n",
       "      <td>0.5</td>\n",
       "      <td>24.0</td>\n",
       "      <td>...</td>\n",
       "      <td>4</td>\n",
       "      <td>0.109375</td>\n",
       "      <td>0.050378</td>\n",
       "      <td>0.264901</td>\n",
       "      <td>0.407767</td>\n",
       "      <td>0.044444</td>\n",
       "      <td>0.226804</td>\n",
       "      <td>0.114583</td>\n",
       "      <td>0.011461</td>\n",
       "      <td>0.173913</td>\n",
       "    </tr>\n",
       "    <tr>\n",
       "      <th>3</th>\n",
       "      <td>0</td>\n",
       "      <td>4.7</td>\n",
       "      <td>46</td>\n",
       "      <td>4.9</td>\n",
       "      <td>4.2</td>\n",
       "      <td>0.9</td>\n",
       "      <td>2.4</td>\n",
       "      <td>1.4</td>\n",
       "      <td>0.5</td>\n",
       "      <td>24.0</td>\n",
       "      <td>...</td>\n",
       "      <td>4</td>\n",
       "      <td>0.109375</td>\n",
       "      <td>0.050378</td>\n",
       "      <td>0.264901</td>\n",
       "      <td>0.407767</td>\n",
       "      <td>0.044444</td>\n",
       "      <td>0.226804</td>\n",
       "      <td>0.114583</td>\n",
       "      <td>0.011461</td>\n",
       "      <td>0.173913</td>\n",
       "    </tr>\n",
       "    <tr>\n",
       "      <th>4</th>\n",
       "      <td>1</td>\n",
       "      <td>7.1</td>\n",
       "      <td>46</td>\n",
       "      <td>4.9</td>\n",
       "      <td>4.9</td>\n",
       "      <td>1.0</td>\n",
       "      <td>0.8</td>\n",
       "      <td>2.0</td>\n",
       "      <td>0.4</td>\n",
       "      <td>21.0</td>\n",
       "      <td>...</td>\n",
       "      <td>1</td>\n",
       "      <td>0.171875</td>\n",
       "      <td>0.050378</td>\n",
       "      <td>0.264901</td>\n",
       "      <td>0.475728</td>\n",
       "      <td>0.051852</td>\n",
       "      <td>0.061856</td>\n",
       "      <td>0.177083</td>\n",
       "      <td>0.008596</td>\n",
       "      <td>0.069565</td>\n",
       "    </tr>\n",
       "    <tr>\n",
       "      <th>...</th>\n",
       "      <td>...</td>\n",
       "      <td>...</td>\n",
       "      <td>...</td>\n",
       "      <td>...</td>\n",
       "      <td>...</td>\n",
       "      <td>...</td>\n",
       "      <td>...</td>\n",
       "      <td>...</td>\n",
       "      <td>...</td>\n",
       "      <td>...</td>\n",
       "      <td>...</td>\n",
       "      <td>...</td>\n",
       "      <td>...</td>\n",
       "      <td>...</td>\n",
       "      <td>...</td>\n",
       "      <td>...</td>\n",
       "      <td>...</td>\n",
       "      <td>...</td>\n",
       "      <td>...</td>\n",
       "      <td>...</td>\n",
       "      <td>...</td>\n",
       "    </tr>\n",
       "    <tr>\n",
       "      <th>995</th>\n",
       "      <td>1</td>\n",
       "      <td>11.0</td>\n",
       "      <td>97</td>\n",
       "      <td>7.0</td>\n",
       "      <td>7.5</td>\n",
       "      <td>1.7</td>\n",
       "      <td>1.2</td>\n",
       "      <td>1.8</td>\n",
       "      <td>0.6</td>\n",
       "      <td>30.0</td>\n",
       "      <td>...</td>\n",
       "      <td>6</td>\n",
       "      <td>0.273438</td>\n",
       "      <td>0.114610</td>\n",
       "      <td>0.403974</td>\n",
       "      <td>0.728155</td>\n",
       "      <td>0.103704</td>\n",
       "      <td>0.103093</td>\n",
       "      <td>0.156250</td>\n",
       "      <td>0.014327</td>\n",
       "      <td>0.382609</td>\n",
       "    </tr>\n",
       "    <tr>\n",
       "      <th>996</th>\n",
       "      <td>1</td>\n",
       "      <td>3.0</td>\n",
       "      <td>60</td>\n",
       "      <td>12.3</td>\n",
       "      <td>4.1</td>\n",
       "      <td>2.2</td>\n",
       "      <td>0.7</td>\n",
       "      <td>2.4</td>\n",
       "      <td>15.4</td>\n",
       "      <td>37.2</td>\n",
       "      <td>...</td>\n",
       "      <td>1</td>\n",
       "      <td>0.065104</td>\n",
       "      <td>0.068010</td>\n",
       "      <td>0.754967</td>\n",
       "      <td>0.398058</td>\n",
       "      <td>0.140741</td>\n",
       "      <td>0.051546</td>\n",
       "      <td>0.218750</td>\n",
       "      <td>0.438395</td>\n",
       "      <td>0.633043</td>\n",
       "    </tr>\n",
       "    <tr>\n",
       "      <th>997</th>\n",
       "      <td>1</td>\n",
       "      <td>7.1</td>\n",
       "      <td>81</td>\n",
       "      <td>6.7</td>\n",
       "      <td>4.1</td>\n",
       "      <td>1.1</td>\n",
       "      <td>1.2</td>\n",
       "      <td>2.4</td>\n",
       "      <td>8.1</td>\n",
       "      <td>27.4</td>\n",
       "      <td>...</td>\n",
       "      <td>1</td>\n",
       "      <td>0.171875</td>\n",
       "      <td>0.094458</td>\n",
       "      <td>0.384106</td>\n",
       "      <td>0.398058</td>\n",
       "      <td>0.059259</td>\n",
       "      <td>0.103093</td>\n",
       "      <td>0.218750</td>\n",
       "      <td>0.229226</td>\n",
       "      <td>0.292174</td>\n",
       "    </tr>\n",
       "    <tr>\n",
       "      <th>998</th>\n",
       "      <td>1</td>\n",
       "      <td>5.8</td>\n",
       "      <td>59</td>\n",
       "      <td>6.7</td>\n",
       "      <td>5.3</td>\n",
       "      <td>2.0</td>\n",
       "      <td>1.6</td>\n",
       "      <td>2.9</td>\n",
       "      <td>14.0</td>\n",
       "      <td>40.5</td>\n",
       "      <td>...</td>\n",
       "      <td>2</td>\n",
       "      <td>0.138021</td>\n",
       "      <td>0.066751</td>\n",
       "      <td>0.384106</td>\n",
       "      <td>0.514563</td>\n",
       "      <td>0.125926</td>\n",
       "      <td>0.144330</td>\n",
       "      <td>0.270833</td>\n",
       "      <td>0.398281</td>\n",
       "      <td>0.747826</td>\n",
       "    </tr>\n",
       "    <tr>\n",
       "      <th>999</th>\n",
       "      <td>1</td>\n",
       "      <td>5.0</td>\n",
       "      <td>67</td>\n",
       "      <td>6.9</td>\n",
       "      <td>3.8</td>\n",
       "      <td>1.7</td>\n",
       "      <td>1.1</td>\n",
       "      <td>3.0</td>\n",
       "      <td>0.7</td>\n",
       "      <td>33.0</td>\n",
       "      <td>...</td>\n",
       "      <td>4</td>\n",
       "      <td>0.117188</td>\n",
       "      <td>0.076826</td>\n",
       "      <td>0.397351</td>\n",
       "      <td>0.368932</td>\n",
       "      <td>0.103704</td>\n",
       "      <td>0.092784</td>\n",
       "      <td>0.281250</td>\n",
       "      <td>0.017192</td>\n",
       "      <td>0.486957</td>\n",
       "    </tr>\n",
       "  </tbody>\n",
       "</table>\n",
       "<p>1000 rows × 21 columns</p>\n",
       "</div>"
      ],
      "text/plain": [
       "     Gender  Urea  Cr  HbA1c  Chol   TG  HDL  LDL  VLDL   BMI  ...  age_range  \\\n",
       "0         0   4.7  46    4.9   4.2  0.9  2.4  1.4   0.5  24.0  ...          4   \n",
       "1         1   4.5  62    4.9   3.7  1.4  1.1  2.1   0.6  23.0  ...          0   \n",
       "2         0   4.7  46    4.9   4.2  0.9  2.4  1.4   0.5  24.0  ...          4   \n",
       "3         0   4.7  46    4.9   4.2  0.9  2.4  1.4   0.5  24.0  ...          4   \n",
       "4         1   7.1  46    4.9   4.9  1.0  0.8  2.0   0.4  21.0  ...          1   \n",
       "..      ...   ...  ..    ...   ...  ...  ...  ...   ...   ...  ...        ...   \n",
       "995       1  11.0  97    7.0   7.5  1.7  1.2  1.8   0.6  30.0  ...          6   \n",
       "996       1   3.0  60   12.3   4.1  2.2  0.7  2.4  15.4  37.2  ...          1   \n",
       "997       1   7.1  81    6.7   4.1  1.1  1.2  2.4   8.1  27.4  ...          1   \n",
       "998       1   5.8  59    6.7   5.3  2.0  1.6  2.9  14.0  40.5  ...          2   \n",
       "999       1   5.0  67    6.9   3.8  1.7  1.1  3.0   0.7  33.0  ...          4   \n",
       "\n",
       "     Urea_scaled  Cr_scaled  HbA1c_scaled  Chol_scaled  TG_scaled  HDL_scaled  \\\n",
       "0       0.109375   0.050378      0.264901     0.407767   0.044444    0.226804   \n",
       "1       0.104167   0.070529      0.264901     0.359223   0.081481    0.092784   \n",
       "2       0.109375   0.050378      0.264901     0.407767   0.044444    0.226804   \n",
       "3       0.109375   0.050378      0.264901     0.407767   0.044444    0.226804   \n",
       "4       0.171875   0.050378      0.264901     0.475728   0.051852    0.061856   \n",
       "..           ...        ...           ...          ...        ...         ...   \n",
       "995     0.273438   0.114610      0.403974     0.728155   0.103704    0.103093   \n",
       "996     0.065104   0.068010      0.754967     0.398058   0.140741    0.051546   \n",
       "997     0.171875   0.094458      0.384106     0.398058   0.059259    0.103093   \n",
       "998     0.138021   0.066751      0.384106     0.514563   0.125926    0.144330   \n",
       "999     0.117188   0.076826      0.397351     0.368932   0.103704    0.092784   \n",
       "\n",
       "     LDL_scaled  VLDL_scaled  BMI_scaled  \n",
       "0      0.114583     0.011461    0.173913  \n",
       "1      0.187500     0.014327    0.139130  \n",
       "2      0.114583     0.011461    0.173913  \n",
       "3      0.114583     0.011461    0.173913  \n",
       "4      0.177083     0.008596    0.069565  \n",
       "..          ...          ...         ...  \n",
       "995    0.156250     0.014327    0.382609  \n",
       "996    0.218750     0.438395    0.633043  \n",
       "997    0.218750     0.229226    0.292174  \n",
       "998    0.270833     0.398281    0.747826  \n",
       "999    0.281250     0.017192    0.486957  \n",
       "\n",
       "[1000 rows x 21 columns]"
      ]
     },
     "execution_count": 82,
     "metadata": {},
     "output_type": "execute_result"
    }
   ],
   "source": [
    "# concatenate df2 and df2_scaled to form df3\n",
    "df3 = pd.concat([df2,df2_scaled],axis=1)\n",
    "df3"
   ]
  },
  {
   "cell_type": "markdown",
   "metadata": {},
   "source": [
    "## Split data into training, validation and testing sets"
   ]
  },
  {
   "cell_type": "code",
   "execution_count": 83,
   "metadata": {},
   "outputs": [],
   "source": [
    "# define training and testing sets\n",
    "X = df3[['Gender','age_range','Urea_scaled','Cr_scaled','HbA1c_scaled','Chol_scaled','TG_scaled','HDL_scaled','LDL_scaled','VLDL_scaled','BMI_scaled']].values\n",
    "y = df3['CLASS'].values\n"
   ]
  },
  {
   "cell_type": "code",
   "execution_count": 84,
   "metadata": {},
   "outputs": [],
   "source": [
    "X_train, X_test, y_train, y_test = train_test_split(X,y,test_size=0.40,random_state=0)"
   ]
  },
  {
   "cell_type": "code",
   "execution_count": 85,
   "metadata": {},
   "outputs": [],
   "source": [
    "X_val, X_test, y_val, y_test = train_test_split(X_test,y_test,test_size=0.50,random_state=0)"
   ]
  },
  {
   "cell_type": "code",
   "execution_count": 86,
   "metadata": {},
   "outputs": [
    {
     "name": "stdout",
     "output_type": "stream",
     "text": [
      "0.6\n",
      "0.2\n",
      "0.2\n"
     ]
    }
   ],
   "source": [
    "for dataset in [y_train, y_val, y_test]:\n",
    "    print(round(len(dataset) /  len(y), 2))"
   ]
  },
  {
   "cell_type": "code",
   "execution_count": 87,
   "metadata": {},
   "outputs": [],
   "source": [
    "def print_results(results):\n",
    "    # Print the best hyperparameters\n",
    "    print(\"BEST PARAMS: {}\\n\".format(results.best_params_))\n",
    "    \n",
    "    # Extract mean test scores and standard deviations\n",
    "    means = results.cv_results_[\"mean_test_score\"]\n",
    "    stds = results.cv_results_[\"std_test_score\"]\n",
    "    \n",
    "    # Iterate through mean scores, standard deviations, and parameters\n",
    "    for mean, std, params in zip(means, stds, results.cv_results_[\"params\"]):\n",
    "        # Print the mean score and its standard deviation, rounded to 3 decimal places\n",
    "        # Also, print the corresponding hyperparameters\n",
    "        print(\"{} (+/-{}) for {}\".format(round(mean, 3), round(std * 2, 3), params))\n"
   ]
  },
  {
   "cell_type": "markdown",
   "metadata": {},
   "source": [
    "## Logistic Regression"
   ]
  },
  {
   "cell_type": "code",
   "execution_count": 88,
   "metadata": {},
   "outputs": [
    {
     "name": "stdout",
     "output_type": "stream",
     "text": [
      "BEST PARAMS: {'C': 100}\n",
      "\n",
      "0.84 (+/-0.007) for {'C': 0.001}\n",
      "0.842 (+/-0.011) for {'C': 0.01}\n",
      "0.855 (+/-0.025) for {'C': 0.1}\n",
      "0.898 (+/-0.039) for {'C': 1}\n",
      "0.905 (+/-0.037) for {'C': 10}\n",
      "0.917 (+/-0.024) for {'C': 100}\n",
      "0.917 (+/-0.024) for {'C': 1000}\n"
     ]
    }
   ],
   "source": [
    "# Create a logistic regression model with increased max_iter\n",
    "lr = LogisticRegression(max_iter=1000)\n",
    "\n",
    "# Define the hyperparameters you want to search over\n",
    "parameters = {\n",
    "    \"C\": [0.001, 0.01, 0.1, 1, 10, 100, 1000]\n",
    "}\n",
    "\n",
    "# Create a grid search object with cross-validation\n",
    "cv = GridSearchCV(lr, parameters, cv=5)\n",
    "\n",
    "# Fit the grid search to your training data\n",
    "cv.fit(X_train, y_train)\n",
    "\n",
    "# Print the results using the print_results function\n",
    "print_results(cv)\n"
   ]
  },
  {
   "cell_type": "markdown",
   "metadata": {},
   "source": [
    "### Write out pickled model"
   ]
  },
  {
   "cell_type": "code",
   "execution_count": 89,
   "metadata": {},
   "outputs": [
    {
     "data": {
      "text/plain": [
       "['LR_model.pkl']"
      ]
     },
     "execution_count": 89,
     "metadata": {},
     "output_type": "execute_result"
    }
   ],
   "source": [
    "import joblib\n",
    "\n",
    "joblib.dump(cv.best_estimator_, \"LR_model.pkl\")"
   ]
  },
  {
   "cell_type": "markdown",
   "metadata": {},
   "source": [
    "## Support Vector Machine model"
   ]
  },
  {
   "cell_type": "code",
   "execution_count": 90,
   "metadata": {},
   "outputs": [
    {
     "name": "stdout",
     "output_type": "stream",
     "text": [
      "BEST PARAMS: {'C': 1000, 'kernel': 'linear'}\n",
      "\n",
      "0.84 (+/-0.007) for {'C': 0.001, 'kernel': 'linear'}\n",
      "0.84 (+/-0.007) for {'C': 0.001, 'kernel': 'rbf'}\n",
      "0.84 (+/-0.007) for {'C': 0.01, 'kernel': 'linear'}\n",
      "0.84 (+/-0.007) for {'C': 0.01, 'kernel': 'rbf'}\n",
      "0.84 (+/-0.007) for {'C': 0.1, 'kernel': 'linear'}\n",
      "0.84 (+/-0.007) for {'C': 0.1, 'kernel': 'rbf'}\n",
      "0.91 (+/-0.037) for {'C': 1, 'kernel': 'linear'}\n",
      "0.837 (+/-0.013) for {'C': 1, 'kernel': 'rbf'}\n",
      "0.913 (+/-0.037) for {'C': 10, 'kernel': 'linear'}\n",
      "0.893 (+/-0.034) for {'C': 10, 'kernel': 'rbf'}\n",
      "0.922 (+/-0.039) for {'C': 100, 'kernel': 'linear'}\n",
      "0.915 (+/-0.034) for {'C': 100, 'kernel': 'rbf'}\n",
      "0.932 (+/-0.037) for {'C': 1000, 'kernel': 'linear'}\n",
      "0.92 (+/-0.034) for {'C': 1000, 'kernel': 'rbf'}\n"
     ]
    }
   ],
   "source": [
    "#create a svc model\n",
    "\n",
    "svc = SVC()\n",
    "parameters = {\n",
    "    \"kernel\": [\"linear\", \"rbf\"],\n",
    "    \"C\": [0.001, 0.01, 0.1, 1, 10, 100, 1000]\n",
    "}\n",
    "\n",
    "# Create a grid search object with cross-validation\n",
    "cv = GridSearchCV(svc, parameters, cv=5)\n",
    "\n",
    "# Fit the grid search to your training data\n",
    "cv.fit(X_train, y_train)\n",
    "\n",
    "# Print the results using the print_results function\n",
    "print_results(cv)\n"
   ]
  },
  {
   "cell_type": "code",
   "execution_count": 91,
   "metadata": {},
   "outputs": [
    {
     "name": "stdout",
     "output_type": "stream",
     "text": [
      "SVC(C=1000, kernel='linear')\n"
     ]
    }
   ],
   "source": [
    "print(cv.best_estimator_)"
   ]
  },
  {
   "cell_type": "code",
   "execution_count": 92,
   "metadata": {},
   "outputs": [
    {
     "data": {
      "text/plain": [
       "['SVM_model.pkl']"
      ]
     },
     "execution_count": 92,
     "metadata": {},
     "output_type": "execute_result"
    }
   ],
   "source": [
    "#write out pickled model\n",
    "joblib.dump(cv.best_estimator_, \"SVM_model.pkl\")"
   ]
  },
  {
   "cell_type": "markdown",
   "metadata": {},
   "source": [
    "## Random Forest Model"
   ]
  },
  {
   "cell_type": "code",
   "execution_count": 93,
   "metadata": {},
   "outputs": [
    {
     "name": "stdout",
     "output_type": "stream",
     "text": [
      "BEST PARAMS: {'max_depth': 8, 'n_estimators': 20}\n",
      "\n",
      "0.902 (+/-0.027) for {'max_depth': 2, 'n_estimators': 5}\n",
      "0.903 (+/-0.031) for {'max_depth': 2, 'n_estimators': 20}\n",
      "0.892 (+/-0.021) for {'max_depth': 2, 'n_estimators': 50}\n",
      "0.905 (+/-0.031) for {'max_depth': 2, 'n_estimators': 100}\n",
      "0.952 (+/-0.049) for {'max_depth': 4, 'n_estimators': 5}\n",
      "0.967 (+/-0.0) for {'max_depth': 4, 'n_estimators': 20}\n",
      "0.96 (+/-0.019) for {'max_depth': 4, 'n_estimators': 50}\n",
      "0.97 (+/-0.017) for {'max_depth': 4, 'n_estimators': 100}\n",
      "0.967 (+/-0.015) for {'max_depth': 8, 'n_estimators': 5}\n",
      "0.977 (+/-0.019) for {'max_depth': 8, 'n_estimators': 20}\n",
      "0.972 (+/-0.023) for {'max_depth': 8, 'n_estimators': 50}\n",
      "0.973 (+/-0.027) for {'max_depth': 8, 'n_estimators': 100}\n",
      "0.965 (+/-0.024) for {'max_depth': 16, 'n_estimators': 5}\n",
      "0.972 (+/-0.025) for {'max_depth': 16, 'n_estimators': 20}\n",
      "0.972 (+/-0.023) for {'max_depth': 16, 'n_estimators': 50}\n",
      "0.972 (+/-0.02) for {'max_depth': 16, 'n_estimators': 100}\n",
      "0.967 (+/-0.038) for {'max_depth': 32, 'n_estimators': 5}\n",
      "0.97 (+/-0.027) for {'max_depth': 32, 'n_estimators': 20}\n",
      "0.972 (+/-0.023) for {'max_depth': 32, 'n_estimators': 50}\n",
      "0.973 (+/-0.024) for {'max_depth': 32, 'n_estimators': 100}\n",
      "0.965 (+/-0.019) for {'max_depth': 64, 'n_estimators': 5}\n",
      "0.97 (+/-0.017) for {'max_depth': 64, 'n_estimators': 20}\n",
      "0.973 (+/-0.022) for {'max_depth': 64, 'n_estimators': 50}\n",
      "0.97 (+/-0.013) for {'max_depth': 64, 'n_estimators': 100}\n",
      "0.958 (+/-0.024) for {'max_depth': None, 'n_estimators': 5}\n",
      "0.973 (+/-0.012) for {'max_depth': None, 'n_estimators': 20}\n",
      "0.97 (+/-0.013) for {'max_depth': None, 'n_estimators': 50}\n",
      "0.97 (+/-0.023) for {'max_depth': None, 'n_estimators': 100}\n"
     ]
    }
   ],
   "source": [
    "# Create a Random Forest Classifier  model  \n",
    "rf = RandomForestClassifier()\n",
    "\n",
    "# Define the hyperparameters to search over\n",
    "parameters = {\n",
    "    \"n_estimators\": [5, 20, 50, 100],\n",
    "    \"max_depth\": [2, 4, 8, 16, 32, 64, None]\n",
    "}\n",
    "\n",
    "# Create a grid search object with cross-validation\n",
    "cv = GridSearchCV(rf, parameters, cv=5)\n",
    "\n",
    "# Fit the grid search to your training data\n",
    "cv.fit(X_train, y_train)\n",
    "\n",
    "# Print the results using the print_results function\n",
    "print_results(cv)"
   ]
  },
  {
   "cell_type": "code",
   "execution_count": 94,
   "metadata": {},
   "outputs": [
    {
     "data": {
      "text/plain": [
       "['Random_forest_model.pkl']"
      ]
     },
     "execution_count": 94,
     "metadata": {},
     "output_type": "execute_result"
    }
   ],
   "source": [
    "#write out pickled model\n",
    "joblib.dump(cv.best_estimator_, \"Random_forest_model.pkl\")"
   ]
  },
  {
   "cell_type": "markdown",
   "metadata": {},
   "source": [
    "## K-Nearest Neighbor Model"
   ]
  },
  {
   "cell_type": "code",
   "execution_count": 95,
   "metadata": {},
   "outputs": [
    {
     "name": "stdout",
     "output_type": "stream",
     "text": [
      "BEST PARAMS: {'algorithm': 'auto', 'n_neighbors': 3, 'weights': 'distance'}\n",
      "\n",
      "0.883 (+/-0.018) for {'algorithm': 'auto', 'n_neighbors': 3, 'weights': 'uniform'}\n",
      "0.903 (+/-0.027) for {'algorithm': 'auto', 'n_neighbors': 3, 'weights': 'distance'}\n",
      "0.865 (+/-0.037) for {'algorithm': 'auto', 'n_neighbors': 5, 'weights': 'uniform'}\n",
      "0.897 (+/-0.031) for {'algorithm': 'auto', 'n_neighbors': 5, 'weights': 'distance'}\n",
      "0.857 (+/-0.034) for {'algorithm': 'auto', 'n_neighbors': 7, 'weights': 'uniform'}\n",
      "0.897 (+/-0.025) for {'algorithm': 'auto', 'n_neighbors': 7, 'weights': 'distance'}\n",
      "0.827 (+/-0.063) for {'algorithm': 'auto', 'n_neighbors': 10, 'weights': 'uniform'}\n",
      "0.877 (+/-0.049) for {'algorithm': 'auto', 'n_neighbors': 10, 'weights': 'distance'}\n",
      "0.883 (+/-0.018) for {'algorithm': 'kd_tree', 'n_neighbors': 3, 'weights': 'uniform'}\n",
      "0.903 (+/-0.027) for {'algorithm': 'kd_tree', 'n_neighbors': 3, 'weights': 'distance'}\n",
      "0.865 (+/-0.037) for {'algorithm': 'kd_tree', 'n_neighbors': 5, 'weights': 'uniform'}\n",
      "0.897 (+/-0.031) for {'algorithm': 'kd_tree', 'n_neighbors': 5, 'weights': 'distance'}\n",
      "0.857 (+/-0.034) for {'algorithm': 'kd_tree', 'n_neighbors': 7, 'weights': 'uniform'}\n",
      "0.897 (+/-0.025) for {'algorithm': 'kd_tree', 'n_neighbors': 7, 'weights': 'distance'}\n",
      "0.827 (+/-0.063) for {'algorithm': 'kd_tree', 'n_neighbors': 10, 'weights': 'uniform'}\n",
      "0.877 (+/-0.049) for {'algorithm': 'kd_tree', 'n_neighbors': 10, 'weights': 'distance'}\n",
      "0.883 (+/-0.018) for {'algorithm': 'ball_tree', 'n_neighbors': 3, 'weights': 'uniform'}\n",
      "0.903 (+/-0.027) for {'algorithm': 'ball_tree', 'n_neighbors': 3, 'weights': 'distance'}\n",
      "0.865 (+/-0.037) for {'algorithm': 'ball_tree', 'n_neighbors': 5, 'weights': 'uniform'}\n",
      "0.897 (+/-0.031) for {'algorithm': 'ball_tree', 'n_neighbors': 5, 'weights': 'distance'}\n",
      "0.857 (+/-0.034) for {'algorithm': 'ball_tree', 'n_neighbors': 7, 'weights': 'uniform'}\n",
      "0.897 (+/-0.025) for {'algorithm': 'ball_tree', 'n_neighbors': 7, 'weights': 'distance'}\n",
      "0.827 (+/-0.063) for {'algorithm': 'ball_tree', 'n_neighbors': 10, 'weights': 'uniform'}\n",
      "0.877 (+/-0.049) for {'algorithm': 'ball_tree', 'n_neighbors': 10, 'weights': 'distance'}\n"
     ]
    }
   ],
   "source": [
    "# Create a KNN model  \n",
    "knn = KNeighborsClassifier()\n",
    "\n",
    "# Define the hyperparameters to search over\n",
    "parameters = {\n",
    "    'n_neighbors': [3, 5, 7, 10],\n",
    "    'weights': ['uniform', 'distance'],\n",
    "    'algorithm': ['auto', 'kd_tree', 'ball_tree'],\n",
    "}\n",
    "\n",
    "\n",
    "# Create a grid search object with cross-validation\n",
    "cv = GridSearchCV(knn, parameters, cv=5)\n",
    "\n",
    "# Fit the grid search to your training data\n",
    "cv.fit(X_train, y_train)\n",
    "\n",
    "# Print the results using the print_results function\n",
    "print_results(cv)"
   ]
  },
  {
   "cell_type": "code",
   "execution_count": 96,
   "metadata": {},
   "outputs": [
    {
     "data": {
      "text/plain": [
       "['KNN_model.pkl']"
      ]
     },
     "execution_count": 96,
     "metadata": {},
     "output_type": "execute_result"
    }
   ],
   "source": [
    "#write out pickled model\n",
    "joblib.dump(cv.best_estimator_, \"KNN_model.pkl\")"
   ]
  },
  {
   "cell_type": "markdown",
   "metadata": {},
   "source": [
    "## Gradient Boosting Classifier"
   ]
  },
  {
   "cell_type": "code",
   "execution_count": 97,
   "metadata": {},
   "outputs": [
    {
     "name": "stdout",
     "output_type": "stream",
     "text": [
      "BEST PARAMS: {'learning_rate': 0.1, 'max_depth': 3, 'n_estimators': 50}\n",
      "\n",
      "0.84 (+/-0.007) for {'learning_rate': 0.01, 'max_depth': 1, 'n_estimators': 5}\n",
      "0.84 (+/-0.007) for {'learning_rate': 0.01, 'max_depth': 1, 'n_estimators': 50}\n",
      "0.95 (+/-0.015) for {'learning_rate': 0.01, 'max_depth': 1, 'n_estimators': 250}\n",
      "0.84 (+/-0.007) for {'learning_rate': 0.01, 'max_depth': 3, 'n_estimators': 5}\n",
      "0.947 (+/-0.008) for {'learning_rate': 0.01, 'max_depth': 3, 'n_estimators': 50}\n",
      "0.982 (+/-0.012) for {'learning_rate': 0.01, 'max_depth': 3, 'n_estimators': 250}\n",
      "0.84 (+/-0.007) for {'learning_rate': 0.01, 'max_depth': 5, 'n_estimators': 5}\n",
      "0.958 (+/-0.011) for {'learning_rate': 0.01, 'max_depth': 5, 'n_estimators': 50}\n",
      "0.975 (+/-0.024) for {'learning_rate': 0.01, 'max_depth': 5, 'n_estimators': 250}\n",
      "0.84 (+/-0.007) for {'learning_rate': 0.01, 'max_depth': 7, 'n_estimators': 5}\n",
      "0.963 (+/-0.023) for {'learning_rate': 0.01, 'max_depth': 7, 'n_estimators': 50}\n",
      "0.973 (+/-0.024) for {'learning_rate': 0.01, 'max_depth': 7, 'n_estimators': 250}\n",
      "0.84 (+/-0.007) for {'learning_rate': 0.01, 'max_depth': 9, 'n_estimators': 5}\n",
      "0.967 (+/-0.024) for {'learning_rate': 0.01, 'max_depth': 9, 'n_estimators': 50}\n",
      "0.973 (+/-0.024) for {'learning_rate': 0.01, 'max_depth': 9, 'n_estimators': 250}\n",
      "0.84 (+/-0.007) for {'learning_rate': 0.1, 'max_depth': 1, 'n_estimators': 5}\n",
      "0.977 (+/-0.019) for {'learning_rate': 0.1, 'max_depth': 1, 'n_estimators': 50}\n",
      "0.977 (+/-0.029) for {'learning_rate': 0.1, 'max_depth': 1, 'n_estimators': 250}\n",
      "0.963 (+/-0.027) for {'learning_rate': 0.1, 'max_depth': 3, 'n_estimators': 5}\n",
      "0.987 (+/-0.008) for {'learning_rate': 0.1, 'max_depth': 3, 'n_estimators': 50}\n",
      "0.982 (+/-0.019) for {'learning_rate': 0.1, 'max_depth': 3, 'n_estimators': 250}\n",
      "0.972 (+/-0.025) for {'learning_rate': 0.1, 'max_depth': 5, 'n_estimators': 5}\n",
      "0.977 (+/-0.016) for {'learning_rate': 0.1, 'max_depth': 5, 'n_estimators': 50}\n",
      "0.977 (+/-0.012) for {'learning_rate': 0.1, 'max_depth': 5, 'n_estimators': 250}\n",
      "0.967 (+/-0.03) for {'learning_rate': 0.1, 'max_depth': 7, 'n_estimators': 5}\n",
      "0.973 (+/-0.029) for {'learning_rate': 0.1, 'max_depth': 7, 'n_estimators': 50}\n",
      "0.973 (+/-0.024) for {'learning_rate': 0.1, 'max_depth': 7, 'n_estimators': 250}\n",
      "0.967 (+/-0.03) for {'learning_rate': 0.1, 'max_depth': 9, 'n_estimators': 5}\n",
      "0.973 (+/-0.029) for {'learning_rate': 0.1, 'max_depth': 9, 'n_estimators': 50}\n",
      "0.972 (+/-0.025) for {'learning_rate': 0.1, 'max_depth': 9, 'n_estimators': 250}\n",
      "0.902 (+/-0.08) for {'learning_rate': 1, 'max_depth': 1, 'n_estimators': 5}\n",
      "0.908 (+/-0.098) for {'learning_rate': 1, 'max_depth': 1, 'n_estimators': 50}\n",
      "0.898 (+/-0.096) for {'learning_rate': 1, 'max_depth': 1, 'n_estimators': 250}\n",
      "0.973 (+/-0.019) for {'learning_rate': 1, 'max_depth': 3, 'n_estimators': 5}\n",
      "0.977 (+/-0.024) for {'learning_rate': 1, 'max_depth': 3, 'n_estimators': 50}\n",
      "0.975 (+/-0.03) for {'learning_rate': 1, 'max_depth': 3, 'n_estimators': 250}\n",
      "0.98 (+/-0.017) for {'learning_rate': 1, 'max_depth': 5, 'n_estimators': 5}\n",
      "0.985 (+/-0.012) for {'learning_rate': 1, 'max_depth': 5, 'n_estimators': 50}\n",
      "0.983 (+/-0.015) for {'learning_rate': 1, 'max_depth': 5, 'n_estimators': 250}\n",
      "0.972 (+/-0.034) for {'learning_rate': 1, 'max_depth': 7, 'n_estimators': 5}\n",
      "0.968 (+/-0.039) for {'learning_rate': 1, 'max_depth': 7, 'n_estimators': 50}\n",
      "0.972 (+/-0.04) for {'learning_rate': 1, 'max_depth': 7, 'n_estimators': 250}\n",
      "0.972 (+/-0.029) for {'learning_rate': 1, 'max_depth': 9, 'n_estimators': 5}\n",
      "0.968 (+/-0.032) for {'learning_rate': 1, 'max_depth': 9, 'n_estimators': 50}\n",
      "0.97 (+/-0.037) for {'learning_rate': 1, 'max_depth': 9, 'n_estimators': 250}\n",
      "0.69 (+/-0.598) for {'learning_rate': 10, 'max_depth': 1, 'n_estimators': 5}\n",
      "0.69 (+/-0.598) for {'learning_rate': 10, 'max_depth': 1, 'n_estimators': 50}\n",
      "0.69 (+/-0.598) for {'learning_rate': 10, 'max_depth': 1, 'n_estimators': 250}\n",
      "0.852 (+/-0.044) for {'learning_rate': 10, 'max_depth': 3, 'n_estimators': 5}\n",
      "0.853 (+/-0.045) for {'learning_rate': 10, 'max_depth': 3, 'n_estimators': 50}\n",
      "0.853 (+/-0.045) for {'learning_rate': 10, 'max_depth': 3, 'n_estimators': 250}\n",
      "0.98 (+/-0.017) for {'learning_rate': 10, 'max_depth': 5, 'n_estimators': 5}\n",
      "0.975 (+/-0.026) for {'learning_rate': 10, 'max_depth': 5, 'n_estimators': 50}\n",
      "0.977 (+/-0.027) for {'learning_rate': 10, 'max_depth': 5, 'n_estimators': 250}\n",
      "0.973 (+/-0.032) for {'learning_rate': 10, 'max_depth': 7, 'n_estimators': 5}\n",
      "0.975 (+/-0.035) for {'learning_rate': 10, 'max_depth': 7, 'n_estimators': 50}\n",
      "0.973 (+/-0.032) for {'learning_rate': 10, 'max_depth': 7, 'n_estimators': 250}\n",
      "0.972 (+/-0.043) for {'learning_rate': 10, 'max_depth': 9, 'n_estimators': 5}\n",
      "0.973 (+/-0.04) for {'learning_rate': 10, 'max_depth': 9, 'n_estimators': 50}\n",
      "0.975 (+/-0.03) for {'learning_rate': 10, 'max_depth': 9, 'n_estimators': 250}\n",
      "0.853 (+/-0.037) for {'learning_rate': 100, 'max_depth': 1, 'n_estimators': 5}\n",
      "0.853 (+/-0.037) for {'learning_rate': 100, 'max_depth': 1, 'n_estimators': 50}\n",
      "0.853 (+/-0.037) for {'learning_rate': 100, 'max_depth': 1, 'n_estimators': 250}\n",
      "0.708 (+/-0.601) for {'learning_rate': 100, 'max_depth': 3, 'n_estimators': 5}\n",
      "0.708 (+/-0.601) for {'learning_rate': 100, 'max_depth': 3, 'n_estimators': 50}\n",
      "0.708 (+/-0.601) for {'learning_rate': 100, 'max_depth': 3, 'n_estimators': 250}\n",
      "0.972 (+/-0.025) for {'learning_rate': 100, 'max_depth': 5, 'n_estimators': 5}\n",
      "0.972 (+/-0.037) for {'learning_rate': 100, 'max_depth': 5, 'n_estimators': 50}\n",
      "0.975 (+/-0.028) for {'learning_rate': 100, 'max_depth': 5, 'n_estimators': 250}\n",
      "0.967 (+/-0.035) for {'learning_rate': 100, 'max_depth': 7, 'n_estimators': 5}\n",
      "0.968 (+/-0.031) for {'learning_rate': 100, 'max_depth': 7, 'n_estimators': 50}\n",
      "0.973 (+/-0.019) for {'learning_rate': 100, 'max_depth': 7, 'n_estimators': 250}\n",
      "0.968 (+/-0.031) for {'learning_rate': 100, 'max_depth': 9, 'n_estimators': 5}\n",
      "0.972 (+/-0.023) for {'learning_rate': 100, 'max_depth': 9, 'n_estimators': 50}\n",
      "0.968 (+/-0.031) for {'learning_rate': 100, 'max_depth': 9, 'n_estimators': 250}\n"
     ]
    }
   ],
   "source": [
    "# Create a Gb model  \n",
    "gb = GradientBoostingClassifier()\n",
    "\n",
    "# Define the hyperparameters to search over\n",
    "parameters = {\n",
    "    'n_estimators': [5, 50, 250],\n",
    "    'max_depth': [1, 3, 5, 7, 9],\n",
    "    'learning_rate': [0.01, 0.1, 1, 10, 100],\n",
    "}\n",
    "\n",
    "\n",
    "# Create a grid search object with cross-validation\n",
    "cv = GridSearchCV(gb, parameters, cv=5)\n",
    "\n",
    "# Fit the grid search to your training data\n",
    "cv.fit(X_train, y_train)\n",
    "\n",
    "# Print the results using the print_results function\n",
    "print_results(cv)"
   ]
  },
  {
   "cell_type": "code",
   "execution_count": 98,
   "metadata": {},
   "outputs": [
    {
     "data": {
      "text/plain": [
       "['gb_model.pkl']"
      ]
     },
     "execution_count": 98,
     "metadata": {},
     "output_type": "execute_result"
    }
   ],
   "source": [
    "#write out pickled model\n",
    "joblib.dump(cv.best_estimator_, \"gb_model.pkl\")"
   ]
  },
  {
   "cell_type": "markdown",
   "metadata": {},
   "source": [
    "## Read in saved models for Validation and Evaluation\n"
   ]
  },
  {
   "cell_type": "code",
   "execution_count": 99,
   "metadata": {},
   "outputs": [],
   "source": [
    "models = {}"
   ]
  },
  {
   "cell_type": "code",
   "execution_count": 100,
   "metadata": {},
   "outputs": [],
   "source": [
    "for mdl in [\"LR\", \"SVM\", \"KNN\", \"gb\", \"Random_Forest\"]:\n",
    "    models[mdl] = joblib.load(\"{}_model.pkl\".format(mdl))"
   ]
  },
  {
   "cell_type": "code",
   "execution_count": 101,
   "metadata": {},
   "outputs": [
    {
     "data": {
      "text/plain": [
       "{'LR': LogisticRegression(C=100, max_iter=1000),\n",
       " 'SVM': SVC(C=1000, kernel='linear'),\n",
       " 'KNN': KNeighborsClassifier(n_neighbors=3, weights='distance'),\n",
       " 'gb': GradientBoostingClassifier(n_estimators=50),\n",
       " 'Random_Forest': RandomForestClassifier(max_depth=8, n_estimators=20)}"
      ]
     },
     "execution_count": 101,
     "metadata": {},
     "output_type": "execute_result"
    }
   ],
   "source": [
    "models"
   ]
  },
  {
   "cell_type": "code",
   "execution_count": 102,
   "metadata": {},
   "outputs": [],
   "source": [
    "def evaluate_model(name, model, features, labels):\n",
    "    start = time()\n",
    "    pred = model.predict(features)\n",
    "    end = time()\n",
    "    accuracy = round(accuracy_score(labels, pred), 3)\n",
    "    precision = round(precision_score(labels, pred, average='weighted'), 3)\n",
    "    recall = round(recall_score(labels, pred, average='weighted'), 3)\n",
    "    print('{} -- Accuracy: {} / Precision: {} / Recall: {} / Latency: {}ms'.format(name,\n",
    "                                                                                   accuracy,\n",
    "                                                                                   precision,\n",
    "                                                                                   recall,\n",
    "                                                                                   round((end - start)*1000, 1)))"
   ]
  },
  {
   "cell_type": "code",
   "execution_count": 103,
   "metadata": {},
   "outputs": [
    {
     "name": "stdout",
     "output_type": "stream",
     "text": [
      "LR -- Accuracy: 0.925 / Precision: 0.917 / Recall: 0.925 / Latency: 0.0ms\n",
      "SVM -- Accuracy: 0.935 / Precision: 0.931 / Recall: 0.935 / Latency: 1.3ms\n",
      "KNN -- Accuracy: 0.955 / Precision: 0.965 / Recall: 0.955 / Latency: 2.5ms\n",
      "gb -- Accuracy: 0.97 / Precision: 0.97 / Recall: 0.97 / Latency: 1.0ms\n",
      "Random_Forest -- Accuracy: 0.98 / Precision: 0.98 / Recall: 0.98 / Latency: 3.3ms\n"
     ]
    }
   ],
   "source": [
    "for name, mdl in models.items():\n",
    "    evaluate_model(name, mdl, X_val, y_val)"
   ]
  },
  {
   "cell_type": "markdown",
   "metadata": {},
   "source": [
    "The two best performing models are Gradient Boost and Random Forest. We will go ahead and evaluate their performances further using the test set."
   ]
  },
  {
   "cell_type": "code",
   "execution_count": 104,
   "metadata": {
    "scrolled": true
   },
   "outputs": [
    {
     "name": "stdout",
     "output_type": "stream",
     "text": [
      "Random Forest -- Accuracy: 0.98 / Precision: 0.981 / Recall: 0.98 / Latency: 4.7ms\n"
     ]
    }
   ],
   "source": [
    "evaluate_model(\"Random Forest\", models[\"Random_Forest\"], X_test, y_test)"
   ]
  },
  {
   "cell_type": "code",
   "execution_count": 105,
   "metadata": {},
   "outputs": [
    {
     "name": "stdout",
     "output_type": "stream",
     "text": [
      "Gradient Boost -- Accuracy: 0.99 / Precision: 0.99 / Recall: 0.99 / Latency: 2.0ms\n"
     ]
    }
   ],
   "source": [
    "evaluate_model(\"Gradient Boost\", models[\"gb\"], X_test, y_test)"
   ]
  },
  {
   "cell_type": "markdown",
   "metadata": {},
   "source": [
    "Gradient boosting performed better on the testing set even though it was slightly bested by the random forest model on the validation set. We will take the gradient boosting model as the overall best model and explore it further."
   ]
  },
  {
   "cell_type": "code",
   "execution_count": 106,
   "metadata": {},
   "outputs": [],
   "source": [
    "# further explore the Gradient boost model\n",
    "\n",
    "GBClassifier_model = GradientBoostingClassifier(n_estimators=50)\n",
    "GBClassifier_model_fitted = GBClassifier_model.fit(X_train,y_train)\n",
    "GBClassifier_model_prediction = GBClassifier_model.predict(X_test)"
   ]
  },
  {
   "cell_type": "code",
   "execution_count": 112,
   "metadata": {
    "scrolled": false
   },
   "outputs": [
    {
     "name": "stdout",
     "output_type": "stream",
     "text": [
      "GB Classifier Report:\n",
      "               precision    recall  f1-score   support\n",
      "\n",
      "           0       0.96      1.00      0.98        26\n",
      "           1       1.00      0.91      0.95        11\n",
      "           2       0.99      0.99      0.99       163\n",
      "\n",
      "    accuracy                           0.99       200\n",
      "   macro avg       0.99      0.97      0.98       200\n",
      "weighted avg       0.99      0.99      0.99       200\n",
      "\n"
     ]
    }
   ],
   "source": [
    "# print classification report for GB Classifier\n",
    "print('GB Classifier Report:\\n', classification_report(y_test,GBClassifier_model_prediction,target_names=['0','1','2']))"
   ]
  },
  {
   "cell_type": "markdown",
   "metadata": {},
   "source": [
    "Overall, the model seems to perform very well, with high precision, recall, and F1-scores for most classes, and a high overall accuracy of 0.99. However, it's worth investigating the lower recall for class 1 to understand why some instances of this class were not correctly predicted. Class 0 represents no diabetes, class 1 prediabetes aand class 2 diabetess."
   ]
  },
  {
   "cell_type": "code",
   "execution_count": 110,
   "metadata": {
    "scrolled": true
   },
   "outputs": [
    {
     "data": {
      "text/plain": [
       "<sklearn.metrics._plot.confusion_matrix.ConfusionMatrixDisplay at 0x1720be55880>"
      ]
     },
     "execution_count": 110,
     "metadata": {},
     "output_type": "execute_result"
    },
    {
     "data": {
      "image/png": "[encoded data removed]",
      "text/plain": [
       "<Figure size 1000x1000 with 2 Axes>"
      ]
     },
     "metadata": {},
     "output_type": "display_data"
    }
   ],
   "source": [
    "# Plot confusion matrix for GBClassifier\n",
    "GBClassifier_matrix = confusion_matrix(y_test,GBClassifier_model_prediction)\n",
    "GBClassifier_confusion_matrix_display = ConfusionMatrixDisplay(GBClassifier_matrix)\n",
    "fig, ax = plt.subplots(figsize=(10,10))\n",
    "GBClassifier_confusion_matrix_display.plot(cmap=plt.cm.Blues,ax=ax)"
   ]
  },
  {
   "cell_type": "code",
   "execution_count": null,
   "metadata": {},
   "outputs": [],
   "source": []
  }
 ],
 "metadata": {
  "kernelspec": {
   "display_name": "Python 3 (ipykernel)",
   "language": "python",
   "name": "python3"
  },
  "language_info": {
   "codemirror_mode": {
    "name": "ipython",
    "version": 3
   },
   "file_extension": ".py",
   "mimetype": "text/x-python",
   "name": "python",
   "nbconvert_exporter": "python",
   "pygments_lexer": "ipython3",
   "version": "3.9.16"
  }
 },
 "nbformat": 4,
 "nbformat_minor": 2
}
